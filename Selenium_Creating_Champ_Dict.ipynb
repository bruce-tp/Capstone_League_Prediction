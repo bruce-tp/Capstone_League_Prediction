{
 "cells": [
  {
   "cell_type": "code",
   "execution_count": 2,
   "metadata": {},
   "outputs": [],
   "source": [
    "from selenium import webdriver"
   ]
  },
  {
   "cell_type": "code",
   "execution_count": 3,
   "metadata": {},
   "outputs": [],
   "source": [
    "driver = webdriver.Chrome('chromedriver.exe')\n",
    "driver.get('https://na.op.gg/champion/statistics')\n",
    "# driver.fullscreen_window()\n",
    "# driver.find_element_by_id('yt-url').send_keys('op.gg')\n",
    "text = driver.find_elements_by_class_name('champion-index-table__name')\n",
    "# text\n"
   ]
  },
  {
   "cell_type": "code",
   "execution_count": 4,
   "metadata": {},
   "outputs": [],
   "source": [
    "top_champ = []\n",
    "for span in text:\n",
    "    top_champ.append (span.text)\n",
    "    \n",
    "top_champ\n",
    "top_champ = [i for i in top_champ if i != '']"
   ]
  },
  {
   "cell_type": "code",
   "execution_count": 5,
   "metadata": {},
   "outputs": [
    {
     "data": {
      "text/plain": [
       "['Garen',\n",
       " 'Kayle',\n",
       " 'Pantheon',\n",
       " 'Kled',\n",
       " 'Darius',\n",
       " 'Renekton',\n",
       " 'Fiora',\n",
       " 'Mordekaiser',\n",
       " 'Quinn',\n",
       " 'Jax',\n",
       " 'Vladimir',\n",
       " 'Gangplank',\n",
       " 'Teemo',\n",
       " 'Illaoi',\n",
       " 'Vayne',\n",
       " 'Aatrox',\n",
       " 'Kennen',\n",
       " 'Yasuo',\n",
       " 'Rengar',\n",
       " 'Camille',\n",
       " 'Akali',\n",
       " 'Ornn',\n",
       " 'Heimerdinger',\n",
       " 'Riven',\n",
       " 'Malphite',\n",
       " 'Irelia',\n",
       " 'Ryze',\n",
       " 'Olaf',\n",
       " 'Shen',\n",
       " 'Yorick',\n",
       " 'Volibear',\n",
       " 'Malzahar',\n",
       " 'Kassadin',\n",
       " 'Rumble',\n",
       " 'Neeko',\n",
       " 'Hecarim',\n",
       " 'Poppy',\n",
       " 'Jayce',\n",
       " 'Dr. Mundo',\n",
       " 'Tryndamere',\n",
       " 'Viktor',\n",
       " 'Singed',\n",
       " 'Gnar',\n",
       " 'Sion',\n",
       " \"Cho'Gath\",\n",
       " 'Urgot',\n",
       " 'Nasus',\n",
       " 'Karma',\n",
       " 'Sylas',\n",
       " 'Maokai']"
      ]
     },
     "execution_count": 5,
     "metadata": {},
     "output_type": "execute_result"
    }
   ],
   "source": [
    "[i for i in top_champ if i != '']"
   ]
  },
  {
   "cell_type": "code",
   "execution_count": 6,
   "metadata": {},
   "outputs": [],
   "source": [
    "x = driver.find_elements_by_class_name('champion-index-table__position')\n",
    "top_champ_position = []\n",
    "for i in x:\n",
    "    top_champ_position.append (i.text)\n",
    "    \n",
    "top_champ_position\n",
    "top_champ_position = [i for i in top_champ_position if i != '']\n"
   ]
  },
  {
   "cell_type": "code",
   "execution_count": 7,
   "metadata": {},
   "outputs": [
    {
     "data": {
      "text/plain": [
       "{'Garen': 'Top, Middle',\n",
       " 'Kayle': 'Top, Middle',\n",
       " 'Pantheon': 'Top, Middle, Jungle',\n",
       " 'Kled': 'Top, Middle',\n",
       " 'Darius': 'Top',\n",
       " 'Renekton': 'Top, Middle',\n",
       " 'Fiora': 'Top',\n",
       " 'Mordekaiser': 'Top, Middle',\n",
       " 'Quinn': 'Top, Middle',\n",
       " 'Jax': 'Top, Jungle',\n",
       " 'Vladimir': 'Top, Middle',\n",
       " 'Gangplank': 'Top',\n",
       " 'Teemo': 'Top',\n",
       " 'Illaoi': 'Top',\n",
       " 'Vayne': 'Bottom, Top',\n",
       " 'Aatrox': 'Top, Middle, Jungle',\n",
       " 'Kennen': 'Top, Middle',\n",
       " 'Yasuo': 'Middle, Top, Bottom',\n",
       " 'Rengar': 'Top, Jungle',\n",
       " 'Camille': 'Top, Middle, Jungle',\n",
       " 'Akali': 'Middle, Top',\n",
       " 'Ornn': 'Top, Middle',\n",
       " 'Heimerdinger': 'Top, Middle, Bottom',\n",
       " 'Riven': 'Top, Middle',\n",
       " 'Malphite': 'Top, Support, Middle',\n",
       " 'Irelia': 'Top, Middle',\n",
       " 'Ryze': 'Middle, Top',\n",
       " 'Olaf': 'Jungle, Top',\n",
       " 'Shen': 'Top, Support',\n",
       " 'Yorick': 'Top',\n",
       " 'Volibear': 'Top, Support, Jungle',\n",
       " 'Malzahar': 'Middle, Top',\n",
       " 'Kassadin': 'Middle, Top',\n",
       " 'Rumble': 'Top, Middle',\n",
       " 'Neeko': 'Middle, Support, Top',\n",
       " 'Hecarim': 'Jungle, Top',\n",
       " 'Poppy': 'Top, Jungle, Support',\n",
       " 'Jayce': 'Top, Middle',\n",
       " 'Dr. Mundo': 'Jungle, Top',\n",
       " 'Tryndamere': 'Top',\n",
       " 'Viktor': 'Middle, Top',\n",
       " 'Singed': 'Top',\n",
       " 'Gnar': 'Top',\n",
       " 'Sion': 'Top',\n",
       " \"Cho'Gath\": 'Top, Middle',\n",
       " 'Urgot': 'Top',\n",
       " 'Nasus': 'Top',\n",
       " 'Karma': 'Support, Top',\n",
       " 'Sylas': 'Middle, Jungle, Top',\n",
       " 'Maokai': 'Top'}"
      ]
     },
     "execution_count": 7,
     "metadata": {},
     "output_type": "execute_result"
    }
   ],
   "source": [
    "top_dict = dict(zip(top_champ, top_champ_position))\n",
    "top_dict"
   ]
  },
  {
   "cell_type": "code",
   "execution_count": 8,
   "metadata": {},
   "outputs": [
    {
     "data": {
      "text/plain": [
       "{'Garen': 'Top, Middle',\n",
       " 'Kayle': 'Top, Middle',\n",
       " 'Pantheon': 'Top, Middle, Jungle',\n",
       " 'Kled': 'Top, Middle',\n",
       " 'Darius': 'Top',\n",
       " 'Renekton': 'Top, Middle',\n",
       " 'Fiora': 'Top',\n",
       " 'Mordekaiser': 'Top, Middle',\n",
       " 'Quinn': 'Top, Middle',\n",
       " 'Jax': 'Top, Jungle',\n",
       " 'Vladimir': 'Top, Middle',\n",
       " 'Gangplank': 'Top',\n",
       " 'Teemo': 'Top',\n",
       " 'Illaoi': 'Top',\n",
       " 'Aatrox': 'Top, Middle, Jungle',\n",
       " 'Kennen': 'Top, Middle',\n",
       " 'Rengar': 'Top, Jungle',\n",
       " 'Camille': 'Top, Middle, Jungle',\n",
       " 'Ornn': 'Top, Middle',\n",
       " 'Heimerdinger': 'Top, Middle, Bottom',\n",
       " 'Riven': 'Top, Middle',\n",
       " 'Malphite': 'Top, Support, Middle',\n",
       " 'Irelia': 'Top, Middle',\n",
       " 'Shen': 'Top, Support',\n",
       " 'Yorick': 'Top',\n",
       " 'Volibear': 'Top, Support, Jungle',\n",
       " 'Rumble': 'Top, Middle',\n",
       " 'Poppy': 'Top, Jungle, Support',\n",
       " 'Jayce': 'Top, Middle',\n",
       " 'Tryndamere': 'Top',\n",
       " 'Singed': 'Top',\n",
       " 'Gnar': 'Top',\n",
       " 'Sion': 'Top',\n",
       " \"Cho'Gath\": 'Top, Middle',\n",
       " 'Urgot': 'Top',\n",
       " 'Nasus': 'Top',\n",
       " 'Maokai': 'Top'}"
      ]
     },
     "execution_count": 8,
     "metadata": {},
     "output_type": "execute_result"
    }
   ],
   "source": [
    "for i in top_champ:\n",
    "    if top_dict [i].index('Top')!=0:\n",
    "        del top_dict[i]\n",
    "top_dict"
   ]
  },
  {
   "cell_type": "code",
   "execution_count": 9,
   "metadata": {},
   "outputs": [
    {
     "data": {
      "text/plain": [
       "{'Garen': 'Top, Middle',\n",
       " 'Kayle': 'Top, Middle',\n",
       " 'Pantheon': 'Top, Middle, Jungle',\n",
       " 'Kled': 'Top, Middle',\n",
       " 'Darius': 'Top',\n",
       " 'Renekton': 'Top, Middle',\n",
       " 'Fiora': 'Top',\n",
       " 'Mordekaiser': 'Top, Middle',\n",
       " 'Quinn': 'Top, Middle',\n",
       " 'Jax': 'Top, Jungle',\n",
       " 'Vladimir': 'Top, Middle',\n",
       " 'Gangplank': 'Top',\n",
       " 'Teemo': 'Top',\n",
       " 'Illaoi': 'Top',\n",
       " 'Aatrox': 'Top, Middle, Jungle',\n",
       " 'Kennen': 'Top, Middle',\n",
       " 'Rengar': 'Top, Jungle',\n",
       " 'Camille': 'Top, Middle, Jungle',\n",
       " 'Ornn': 'Top, Middle',\n",
       " 'Heimerdinger': 'Top, Middle, Bottom',\n",
       " 'Riven': 'Top, Middle',\n",
       " 'Malphite': 'Top, Support, Middle',\n",
       " 'Irelia': 'Top, Middle',\n",
       " 'Shen': 'Top, Support',\n",
       " 'Yorick': 'Top',\n",
       " 'Volibear': 'Top, Support, Jungle',\n",
       " 'Rumble': 'Top, Middle',\n",
       " 'Poppy': 'Top, Jungle, Support',\n",
       " 'Jayce': 'Top, Middle',\n",
       " 'Tryndamere': 'Top',\n",
       " 'Singed': 'Top',\n",
       " 'Gnar': 'Top',\n",
       " 'Sion': 'Top',\n",
       " \"Cho'Gath\": 'Top, Middle',\n",
       " 'Urgot': 'Top',\n",
       " 'Nasus': 'Top',\n",
       " 'Maokai': 'Top'}"
      ]
     },
     "execution_count": 9,
     "metadata": {},
     "output_type": "execute_result"
    }
   ],
   "source": [
    "top_dict"
   ]
  },
  {
   "cell_type": "code",
   "execution_count": 10,
   "metadata": {},
   "outputs": [],
   "source": [
    "# del top_dict['']\n",
    "# top_dict"
   ]
  },
  {
   "cell_type": "code",
   "execution_count": 11,
   "metadata": {},
   "outputs": [
    {
     "data": {
      "text/plain": [
       "{'Elise': 'Jungle',\n",
       " 'Ekko': 'Jungle, Middle',\n",
       " 'Zac': 'Jungle',\n",
       " 'Shaco': 'Jungle, Support',\n",
       " 'Lee Sin': 'Jungle',\n",
       " 'Dr. Mundo': 'Jungle, Top',\n",
       " 'Karthus': 'Jungle',\n",
       " 'Nidalee': 'Jungle',\n",
       " \"Rek'Sai\": 'Jungle',\n",
       " 'Olaf': 'Jungle, Top',\n",
       " 'Evelynn': 'Jungle',\n",
       " 'Jarvan IV': 'Jungle',\n",
       " 'Xin Zhao': 'Jungle',\n",
       " 'Nunu & Willump': 'Jungle',\n",
       " 'Shyvana': 'Jungle',\n",
       " 'Graves': 'Jungle',\n",
       " \"Kha'Zix\": 'Jungle',\n",
       " 'Vi': 'Jungle',\n",
       " 'Kindred': 'Jungle',\n",
       " 'Nocturne': 'Jungle, Middle',\n",
       " 'Hecarim': 'Jungle, Top',\n",
       " 'Master Yi': 'Jungle',\n",
       " 'Gragas': 'Jungle, Support',\n",
       " 'Rammus': 'Jungle',\n",
       " 'Kayn': 'Jungle',\n",
       " 'Taliyah': 'Jungle, Middle',\n",
       " 'Ivern': 'Jungle',\n",
       " 'Warwick': 'Jungle',\n",
       " 'Amumu': 'Jungle',\n",
       " 'Udyr': 'Jungle',\n",
       " 'Wukong': 'Jungle',\n",
       " 'Sejuani': 'Jungle',\n",
       " 'Skarner': 'Jungle'}"
      ]
     },
     "execution_count": 11,
     "metadata": {},
     "output_type": "execute_result"
    }
   ],
   "source": [
    "# driver = webdriver.Chrome('chromedriver.exe')\n",
    "# driver.get('https://na.op.gg/champion/statistics')\n",
    "driver.execute_script(\"document.getElementsByClassName('champion-index-trend-position__item tabHeader')[1].click()\")\n",
    "#Jungle Button\n",
    "text = driver.find_elements_by_class_name('champion-index-table__name')\n",
    "jungle_champ = []\n",
    "for span in text:\n",
    "    jungle_champ.append (span.text)\n",
    "    \n",
    "\n",
    "jungle_champ = [i for i in jungle_champ if i != '']\n",
    "\n",
    "x = driver.find_elements_by_class_name('champion-index-table__position')\n",
    "jungle_champ_position = []\n",
    "for i in x:\n",
    "    jungle_champ_position.append (i.text)\n",
    "    \n",
    "\n",
    "jungle_champ_position = [i for i in jungle_champ_position if i != '']\n",
    "jungle_dict = dict(zip(jungle_champ, jungle_champ_position))\n",
    "for i in jungle_champ:\n",
    "    if jungle_dict [i].index('Jungle')!=0:\n",
    "        del jungle_dict[i]\n",
    "jungle_dict"
   ]
  },
  {
   "cell_type": "code",
   "execution_count": 12,
   "metadata": {},
   "outputs": [
    {
     "data": {
      "text/plain": [
       "{'Talon': 'Middle',\n",
       " 'Fizz': 'Middle',\n",
       " 'Yasuo': 'Middle, Top, Bottom',\n",
       " 'Ahri': 'Middle',\n",
       " 'Zed': 'Middle',\n",
       " 'Twisted Fate': 'Middle',\n",
       " 'Kassadin': 'Middle, Top',\n",
       " 'Malzahar': 'Middle, Top',\n",
       " 'Katarina': 'Middle',\n",
       " 'Zoe': 'Middle',\n",
       " 'LeBlanc': 'Middle',\n",
       " 'Galio': 'Middle, Support',\n",
       " 'Aurelion Sol': 'Middle',\n",
       " 'Orianna': 'Middle',\n",
       " 'Qiyana': 'Middle, Jungle',\n",
       " 'Anivia': 'Middle',\n",
       " 'Diana': 'Middle',\n",
       " 'Akali': 'Middle, Top',\n",
       " 'Ryze': 'Middle, Top',\n",
       " 'Lissandra': 'Middle',\n",
       " 'Syndra': 'Middle',\n",
       " 'Cassiopeia': 'Middle',\n",
       " 'Viktor': 'Middle, Top',\n",
       " 'Neeko': 'Middle, Support, Top',\n",
       " 'Annie': 'Middle',\n",
       " 'Sylas': 'Middle, Jungle, Top',\n",
       " 'Veigar': 'Middle, Support',\n",
       " 'Azir': 'Middle',\n",
       " 'Ziggs': 'Middle',\n",
       " 'Corki': 'Middle'}"
      ]
     },
     "execution_count": 12,
     "metadata": {},
     "output_type": "execute_result"
    }
   ],
   "source": [
    "# driver = webdriver.Chrome('chromedriver.exe')\n",
    "# driver.get('https://na.op.gg/champion/statistics')\n",
    "driver.execute_script(\"document.getElementsByClassName('champion-index-trend-position__item tabHeader')[2].click()\")\n",
    "# Middle Button\n",
    "text = driver.find_elements_by_class_name('champion-index-table__name')\n",
    "middle_champ = []\n",
    "for span in text:\n",
    "    middle_champ.append (span.text)\n",
    "    \n",
    "\n",
    "middle_champ = [i for i in middle_champ if i != '']\n",
    "\n",
    "x = driver.find_elements_by_class_name('champion-index-table__position')\n",
    "middle_champ_position = []\n",
    "for i in x:\n",
    "    middle_champ_position.append (i.text)\n",
    "    \n",
    "\n",
    "middle_champ_position = [i for i in middle_champ_position if i != '']\n",
    "middle_dict = dict(zip(middle_champ, middle_champ_position))\n",
    "for i in middle_champ:\n",
    "    if middle_dict [i].index('Middle')!=0:\n",
    "        del middle_dict[i]\n",
    "middle_dict"
   ]
  },
  {
   "cell_type": "code",
   "execution_count": 13,
   "metadata": {},
   "outputs": [
    {
     "data": {
      "text/plain": [
       "{'Ashe': 'Bottom',\n",
       " 'Jinx': 'Bottom',\n",
       " 'Caitlyn': 'Bottom',\n",
       " \"Kai'Sa\": 'Bottom',\n",
       " 'Vayne': 'Bottom, Top',\n",
       " 'Lucian': 'Bottom',\n",
       " 'Ezreal': 'Bottom, Middle',\n",
       " 'Xayah': 'Bottom',\n",
       " 'Miss Fortune': 'Bottom, Support',\n",
       " 'Draven': 'Bottom',\n",
       " 'Sivir': 'Bottom',\n",
       " 'Jhin': 'Bottom',\n",
       " 'Twitch': 'Bottom',\n",
       " 'Varus': 'Bottom',\n",
       " 'Tristana': 'Bottom, Middle',\n",
       " 'Kalista': 'Bottom',\n",
       " \"Kog'Maw\": 'Bottom'}"
      ]
     },
     "execution_count": 13,
     "metadata": {},
     "output_type": "execute_result"
    }
   ],
   "source": [
    "# driver = webdriver.Chrome('chromedriver.exe')\n",
    "# driver.get('https://na.op.gg/champion/statistics')\n",
    "driver.execute_script(\"document.getElementsByClassName('champion-index-trend-position__item tabHeader')[3].click()\")\n",
    "# Bottom Button\n",
    "text = driver.find_elements_by_class_name('champion-index-table__name')\n",
    "bottom_champ = []\n",
    "for span in text:\n",
    "    bottom_champ.append (span.text)\n",
    "    \n",
    "\n",
    "bottom_champ = [i for i in bottom_champ if i != '']\n",
    "\n",
    "x = driver.find_elements_by_class_name('champion-index-table__position')\n",
    "bottom_champ_position = []\n",
    "for i in x:\n",
    "    bottom_champ_position.append (i.text)\n",
    "    \n",
    "\n",
    "bottom_champ_position = [i for i in bottom_champ_position if i != '']\n",
    "bottom_dict = dict(zip(bottom_champ, bottom_champ_position))\n",
    "for i in bottom_champ:\n",
    "    if bottom_dict [i].index('Bottom')!=0:\n",
    "        del bottom_dict[i]\n",
    "bottom_dict"
   ]
  },
  {
   "cell_type": "code",
   "execution_count": 14,
   "metadata": {},
   "outputs": [
    {
     "data": {
      "text/plain": [
       "{'Blitzcrank': 'Support',\n",
       " 'Nautilus': 'Support',\n",
       " 'Leona': 'Support',\n",
       " 'Pyke': 'Support, Middle',\n",
       " 'Thresh': 'Support',\n",
       " 'Morgana': 'Support',\n",
       " 'Swain': 'Support, Middle',\n",
       " 'Bard': 'Support',\n",
       " 'Soraka': 'Support',\n",
       " 'Fiddlesticks': 'Support, Jungle',\n",
       " 'Zilean': 'Support, Middle',\n",
       " 'Janna': 'Support',\n",
       " 'Zyra': 'Support',\n",
       " 'Xerath': 'Support, Middle',\n",
       " 'Nami': 'Support',\n",
       " 'Rakan': 'Support',\n",
       " 'Lulu': 'Support',\n",
       " 'Lux': 'Support, Middle',\n",
       " \"Vel'Koz\": 'Support, Middle',\n",
       " 'Karma': 'Support, Top',\n",
       " 'Alistar': 'Support',\n",
       " 'Braum': 'Support',\n",
       " 'Brand': 'Support',\n",
       " 'Yuumi': 'Support',\n",
       " 'Sona': 'Support',\n",
       " 'Taric': 'Support',\n",
       " 'Tahm Kench': 'Support'}"
      ]
     },
     "execution_count": 14,
     "metadata": {},
     "output_type": "execute_result"
    }
   ],
   "source": [
    "driver.execute_script(\"document.getElementsByClassName('champion-index-trend-position__item tabHeader')[4].click()\")\n",
    "# Support Button\n",
    "text = driver.find_elements_by_class_name('champion-index-table__name')\n",
    "support_champ = []\n",
    "for span in text:\n",
    "    support_champ.append (span.text)\n",
    "    \n",
    "\n",
    "support_champ = [i for i in support_champ if i != '']\n",
    "\n",
    "x = driver.find_elements_by_class_name('champion-index-table__position')\n",
    "support_champ_position = []\n",
    "for i in x:\n",
    "    support_champ_position.append (i.text)\n",
    "    \n",
    "\n",
    "support_champ_position = [i for i in support_champ_position if i != '']\n",
    "support_dict = dict(zip(support_champ, support_champ_position))\n",
    "for i in support_champ:\n",
    "    if support_dict [i].index('Support')!=0:\n",
    "        del support_dict[i]\n",
    "support_dict"
   ]
  },
  {
   "cell_type": "code",
   "execution_count": 15,
   "metadata": {},
   "outputs": [
    {
     "data": {
      "text/plain": [
       "{'Elise': 'Jungle',\n",
       " 'Ekko': 'Jungle, Middle',\n",
       " 'Zac': 'Jungle',\n",
       " 'Shaco': 'Jungle, Support',\n",
       " 'Lee Sin': 'Jungle',\n",
       " 'Dr. Mundo': 'Jungle, Top',\n",
       " 'Karthus': 'Jungle',\n",
       " 'Nidalee': 'Jungle',\n",
       " \"Rek'Sai\": 'Jungle',\n",
       " 'Olaf': 'Jungle, Top',\n",
       " 'Evelynn': 'Jungle',\n",
       " 'Jarvan IV': 'Jungle',\n",
       " 'Xin Zhao': 'Jungle',\n",
       " 'Nunu & Willump': 'Jungle',\n",
       " 'Shyvana': 'Jungle',\n",
       " 'Graves': 'Jungle',\n",
       " \"Kha'Zix\": 'Jungle',\n",
       " 'Vi': 'Jungle',\n",
       " 'Kindred': 'Jungle',\n",
       " 'Nocturne': 'Jungle, Middle',\n",
       " 'Hecarim': 'Jungle, Top',\n",
       " 'Master Yi': 'Jungle',\n",
       " 'Gragas': 'Jungle, Support',\n",
       " 'Rammus': 'Jungle',\n",
       " 'Kayn': 'Jungle',\n",
       " 'Taliyah': 'Jungle, Middle',\n",
       " 'Ivern': 'Jungle',\n",
       " 'Warwick': 'Jungle',\n",
       " 'Amumu': 'Jungle',\n",
       " 'Udyr': 'Jungle',\n",
       " 'Wukong': 'Jungle',\n",
       " 'Sejuani': 'Jungle',\n",
       " 'Skarner': 'Jungle'}"
      ]
     },
     "execution_count": 15,
     "metadata": {},
     "output_type": "execute_result"
    }
   ],
   "source": [
    "jungle_dict"
   ]
  },
  {
   "cell_type": "code",
   "execution_count": 16,
   "metadata": {},
   "outputs": [
    {
     "data": {
      "text/plain": [
       "{'Talon': 'Middle',\n",
       " 'Fizz': 'Middle',\n",
       " 'Yasuo': 'Middle, Top, Bottom',\n",
       " 'Ahri': 'Middle',\n",
       " 'Zed': 'Middle',\n",
       " 'Twisted Fate': 'Middle',\n",
       " 'Kassadin': 'Middle, Top',\n",
       " 'Malzahar': 'Middle, Top',\n",
       " 'Katarina': 'Middle',\n",
       " 'Zoe': 'Middle',\n",
       " 'LeBlanc': 'Middle',\n",
       " 'Galio': 'Middle, Support',\n",
       " 'Aurelion Sol': 'Middle',\n",
       " 'Orianna': 'Middle',\n",
       " 'Qiyana': 'Middle, Jungle',\n",
       " 'Anivia': 'Middle',\n",
       " 'Diana': 'Middle',\n",
       " 'Akali': 'Middle, Top',\n",
       " 'Ryze': 'Middle, Top',\n",
       " 'Lissandra': 'Middle',\n",
       " 'Syndra': 'Middle',\n",
       " 'Cassiopeia': 'Middle',\n",
       " 'Viktor': 'Middle, Top',\n",
       " 'Neeko': 'Middle, Support, Top',\n",
       " 'Annie': 'Middle',\n",
       " 'Sylas': 'Middle, Jungle, Top',\n",
       " 'Veigar': 'Middle, Support',\n",
       " 'Azir': 'Middle',\n",
       " 'Ziggs': 'Middle',\n",
       " 'Corki': 'Middle'}"
      ]
     },
     "execution_count": 16,
     "metadata": {},
     "output_type": "execute_result"
    }
   ],
   "source": [
    "middle_dict"
   ]
  },
  {
   "cell_type": "code",
   "execution_count": 17,
   "metadata": {},
   "outputs": [
    {
     "data": {
      "text/plain": [
       "{'Ashe': 'Bottom',\n",
       " 'Jinx': 'Bottom',\n",
       " 'Caitlyn': 'Bottom',\n",
       " \"Kai'Sa\": 'Bottom',\n",
       " 'Vayne': 'Bottom, Top',\n",
       " 'Lucian': 'Bottom',\n",
       " 'Ezreal': 'Bottom, Middle',\n",
       " 'Xayah': 'Bottom',\n",
       " 'Miss Fortune': 'Bottom, Support',\n",
       " 'Draven': 'Bottom',\n",
       " 'Sivir': 'Bottom',\n",
       " 'Jhin': 'Bottom',\n",
       " 'Twitch': 'Bottom',\n",
       " 'Varus': 'Bottom',\n",
       " 'Tristana': 'Bottom, Middle',\n",
       " 'Kalista': 'Bottom',\n",
       " \"Kog'Maw\": 'Bottom'}"
      ]
     },
     "execution_count": 17,
     "metadata": {},
     "output_type": "execute_result"
    }
   ],
   "source": [
    "bottom_dict"
   ]
  },
  {
   "cell_type": "code",
   "execution_count": 18,
   "metadata": {},
   "outputs": [
    {
     "data": {
      "text/plain": [
       "{'Blitzcrank': 'Support',\n",
       " 'Nautilus': 'Support',\n",
       " 'Leona': 'Support',\n",
       " 'Pyke': 'Support, Middle',\n",
       " 'Thresh': 'Support',\n",
       " 'Morgana': 'Support',\n",
       " 'Swain': 'Support, Middle',\n",
       " 'Bard': 'Support',\n",
       " 'Soraka': 'Support',\n",
       " 'Fiddlesticks': 'Support, Jungle',\n",
       " 'Zilean': 'Support, Middle',\n",
       " 'Janna': 'Support',\n",
       " 'Zyra': 'Support',\n",
       " 'Xerath': 'Support, Middle',\n",
       " 'Nami': 'Support',\n",
       " 'Rakan': 'Support',\n",
       " 'Lulu': 'Support',\n",
       " 'Lux': 'Support, Middle',\n",
       " \"Vel'Koz\": 'Support, Middle',\n",
       " 'Karma': 'Support, Top',\n",
       " 'Alistar': 'Support',\n",
       " 'Braum': 'Support',\n",
       " 'Brand': 'Support',\n",
       " 'Yuumi': 'Support',\n",
       " 'Sona': 'Support',\n",
       " 'Taric': 'Support',\n",
       " 'Tahm Kench': 'Support'}"
      ]
     },
     "execution_count": 18,
     "metadata": {},
     "output_type": "execute_result"
    }
   ],
   "source": [
    "support_dict"
   ]
  },
  {
   "cell_type": "code",
   "execution_count": 19,
   "metadata": {},
   "outputs": [
    {
     "data": {
      "text/plain": [
       "{'Garen': 'Top, Middle',\n",
       " 'Kayle': 'Top, Middle',\n",
       " 'Pantheon': 'Top, Middle, Jungle',\n",
       " 'Kled': 'Top, Middle',\n",
       " 'Darius': 'Top',\n",
       " 'Renekton': 'Top, Middle',\n",
       " 'Fiora': 'Top',\n",
       " 'Mordekaiser': 'Top, Middle',\n",
       " 'Quinn': 'Top, Middle',\n",
       " 'Jax': 'Top, Jungle',\n",
       " 'Vladimir': 'Top, Middle',\n",
       " 'Gangplank': 'Top',\n",
       " 'Teemo': 'Top',\n",
       " 'Illaoi': 'Top',\n",
       " 'Aatrox': 'Top, Middle, Jungle',\n",
       " 'Kennen': 'Top, Middle',\n",
       " 'Rengar': 'Top, Jungle',\n",
       " 'Camille': 'Top, Middle, Jungle',\n",
       " 'Ornn': 'Top, Middle',\n",
       " 'Heimerdinger': 'Top, Middle, Bottom',\n",
       " 'Riven': 'Top, Middle',\n",
       " 'Malphite': 'Top, Support, Middle',\n",
       " 'Irelia': 'Top, Middle',\n",
       " 'Shen': 'Top, Support',\n",
       " 'Yorick': 'Top',\n",
       " 'Volibear': 'Top, Support, Jungle',\n",
       " 'Rumble': 'Top, Middle',\n",
       " 'Poppy': 'Top, Jungle, Support',\n",
       " 'Jayce': 'Top, Middle',\n",
       " 'Tryndamere': 'Top',\n",
       " 'Singed': 'Top',\n",
       " 'Gnar': 'Top',\n",
       " 'Sion': 'Top',\n",
       " \"Cho'Gath\": 'Top, Middle',\n",
       " 'Urgot': 'Top',\n",
       " 'Nasus': 'Top',\n",
       " 'Maokai': 'Top'}"
      ]
     },
     "execution_count": 19,
     "metadata": {},
     "output_type": "execute_result"
    }
   ],
   "source": [
    "top_dict"
   ]
  },
  {
   "cell_type": "code",
   "execution_count": 20,
   "metadata": {},
   "outputs": [
    {
     "name": "stdout",
     "output_type": "stream",
     "text": [
      "Cho'Gath\n"
     ]
    }
   ],
   "source": [
    "for i in top_dict:\n",
    "    if \"'\" in i:\n",
    "        top_dict [str(i)] = 'Top'\n",
    "# top_dict ['Chogath'] = 'Top'"
   ]
  },
  {
   "cell_type": "code",
   "execution_count": 21,
   "metadata": {},
   "outputs": [],
   "source": [
    "for i in top_dict:\n",
    "    if \" \" in i:\n",
    "        top_dict [str(i)] = 'Top'"
   ]
  },
  {
   "cell_type": "code",
   "execution_count": null,
   "metadata": {},
   "outputs": [],
   "source": [
    "for i in middle_dict:\n",
    "    if \"'\" in i:\n",
    "        top_dict [str(i)] = 'Middle'\n",
    "        \n",
    "for i in middle_dict:\n",
    "    if \" \" in i:\n",
    "        top_dict [str(i)] = 'Middle'"
   ]
  },
  {
   "cell_type": "code",
   "execution_count": null,
   "metadata": {},
   "outputs": [],
   "source": [
    "for i in bottom_dict:\n",
    "    if \"'\" in i:\n",
    "        bottom_dict [str(i)] = 'Bottom'\n",
    "        \n",
    "for i in bottom_dict:\n",
    "    if \" \" in i:\n",
    "        bottom_dict [str(i)] = 'Bottom'"
   ]
  },
  {
   "cell_type": "code",
   "execution_count": null,
   "metadata": {},
   "outputs": [],
   "source": [
    "for i in support_dict:\n",
    "    if \"'\" in i:\n",
    "        support_dict [str(i)] = 'Support'\n",
    "        \n",
    "for i in support_dict:\n",
    "    if \" \" in i:\n",
    "        support_dict [str(i)] = 'Support'"
   ]
  },
  {
   "cell_type": "code",
   "execution_count": null,
   "metadata": {},
   "outputs": [],
   "source": [
    "for i in jungle_dict:\n",
    "    if \"'\" in i:\n",
    "        jungle_dict [str(i)] = 'Bottom'\n",
    "        \n",
    "for i in bottom_dict:\n",
    "    if \" \" in i:\n",
    "        bottom_dict [str(i)] = 'Bottom'"
   ]
  },
  {
   "cell_type": "code",
   "execution_count": null,
   "metadata": {},
   "outputs": [],
   "source": [
    "\n",
    "top_dict ['DrMundo'] = 'Top'"
   ]
  },
  {
   "cell_type": "code",
   "execution_count": null,
   "metadata": {},
   "outputs": [],
   "source": []
  },
  {
   "cell_type": "code",
   "execution_count": null,
   "metadata": {},
   "outputs": [],
   "source": []
  },
  {
   "cell_type": "code",
   "execution_count": null,
   "metadata": {},
   "outputs": [],
   "source": []
  },
  {
   "cell_type": "code",
   "execution_count": 84,
   "metadata": {},
   "outputs": [],
   "source": [
    "import json\n",
    "json = json.dumps(top_dict)\n",
    "f = open(\"top_dict.json\",\"w\")\n",
    "f.write(json)\n",
    "f.close()"
   ]
  },
  {
   "cell_type": "code",
   "execution_count": 85,
   "metadata": {},
   "outputs": [],
   "source": [
    "import json\n",
    "json = json.dumps(bottom_dict)\n",
    "f = open(\"bottom_dict.json\",\"w\")\n",
    "f.write(json)\n",
    "f.close()"
   ]
  },
  {
   "cell_type": "code",
   "execution_count": 86,
   "metadata": {},
   "outputs": [],
   "source": [
    "import json\n",
    "json = json.dumps(support_dict)\n",
    "f = open(\"support_dict.json\",\"w\")\n",
    "f.write(json)\n",
    "f.close()"
   ]
  },
  {
   "cell_type": "code",
   "execution_count": 87,
   "metadata": {},
   "outputs": [],
   "source": [
    "import json\n",
    "json = json.dumps(middle_dict)\n",
    "f = open(\"middle_dict.json\",\"w\")\n",
    "f.write(json)\n",
    "f.close()"
   ]
  },
  {
   "cell_type": "code",
   "execution_count": 88,
   "metadata": {},
   "outputs": [],
   "source": [
    "import json\n",
    "json = json.dumps(jungle_dict)\n",
    "f = open(\"jungle_dict.json\",\"w\")\n",
    "f.write(json)\n",
    "f.close()"
   ]
  },
  {
   "cell_type": "code",
   "execution_count": 83,
   "metadata": {},
   "outputs": [
    {
     "name": "stdout",
     "output_type": "stream",
     "text": [
      "Cho'Gath\n"
     ]
    }
   ],
   "source": [
    "for i in top_dict:\n",
    "    if \"'\" in i:\n",
    "        print (i)\n",
    "top_dict ['Chogath'] = 'Top'"
   ]
  },
  {
   "cell_type": "code",
   "execution_count": 65,
   "metadata": {},
   "outputs": [
    {
     "name": "stdout",
     "output_type": "stream",
     "text": [
      "Vel'Koz\n"
     ]
    }
   ],
   "source": [
    "# for i in support_dict:\n",
    "#     if \"'\" in i:\n",
    "#         print (i)\n",
    "# support_dict['Velkoz'] = 'Support'"
   ]
  },
  {
   "cell_type": "code",
   "execution_count": 66,
   "metadata": {},
   "outputs": [],
   "source": [
    "for i in middle_dict:\n",
    "    if \"'\" in i:\n",
    "        print (i)\n",
    "        "
   ]
  },
  {
   "cell_type": "code",
   "execution_count": 68,
   "metadata": {},
   "outputs": [
    {
     "name": "stdout",
     "output_type": "stream",
     "text": [
      "Kai'Sa\n",
      "Kog'Maw\n"
     ]
    }
   ],
   "source": [
    "# for i in bottom_dict:\n",
    "#     if \"'\" in i:\n",
    "#         print (i)\n",
    "# bottom_dict['Kaisa']  = 'Bottom'\n",
    "# bottom_dict['Kogmaw'] = 'Bottom'"
   ]
  },
  {
   "cell_type": "code",
   "execution_count": 70,
   "metadata": {},
   "outputs": [
    {
     "name": "stdout",
     "output_type": "stream",
     "text": [
      "Rek'Sai\n",
      "Kha'Zix\n"
     ]
    }
   ],
   "source": [
    "# for i in jungle_dict:\n",
    "#     if \"'\" in i:\n",
    "#         print (i)\n",
    "        \n",
    "# # jungle_dict['LeeSin'] = 'Jungle'\n",
    "# # jungle_dict['DrMundo'] = 'Jungle'\n",
    "# # jungle_dict['JarvanIV'] = 'Jungle'\n",
    "# # jungle_dict['XinZhao'] = 'Jungle'\n",
    "# # jungle_dict['Nunu'] = 'Jungle'\n",
    "# # jungle_dict['MasterYi'] = 'Jungle'\n",
    "# jungle_dict['Reksai'] = 'Jungle'\n",
    "# jungle_dict['Khazix'] = 'Jungle'"
   ]
  },
  {
   "cell_type": "code",
   "execution_count": 23,
   "metadata": {},
   "outputs": [],
   "source": [
    "listA = ['a', 'b', 'c', 'd', 'e', 'f', 'g', 'h', 'i', 'j']"
   ]
  },
  {
   "cell_type": "code",
   "execution_count": 25,
   "metadata": {},
   "outputs": [],
   "source": [
    "import pandas as pd"
   ]
  },
  {
   "cell_type": "code",
   "execution_count": 39,
   "metadata": {},
   "outputs": [],
   "source": [
    "dfchamp = pd.DataFrame( columns = ['Rteam_top', 'Bteam_top','Rteam_middle','Bteam_middle' , 'Rteam_bottom', 'Bteam_bottom','Rteam_support','Bteam_support','Rteam_jungle','Bteam_jungle']) "
   ]
  },
  {
   "cell_type": "code",
   "execution_count": 40,
   "metadata": {},
   "outputs": [],
   "source": [
    "dfchamp ['Bteam_top'] = list (listA[0])\n",
    "dfchamp ['Bteam_middle'] = list (listA[1])\n",
    "dfchamp ['Bteam_bottom'] = list (listA[2])\n",
    "dfchamp ['Bteam_support'] = list (listA[3])\n",
    "dfchamp ['Bteam_jungle'] = list (listA[4])\n",
    "dfchamp ['Rteam_top'] = list (listA[5])\n",
    "dfchamp ['Rteam_middle'] = list (listA[6])\n",
    "dfchamp ['Rteam_bottom'] = list (listA[7])\n",
    "dfchamp ['Rteam_support'] = list (listA[8])\n",
    "dfchamp ['Rteam_jungle'] = list (listA[9])"
   ]
  },
  {
   "cell_type": "code",
   "execution_count": 41,
   "metadata": {},
   "outputs": [
    {
     "data": {
      "text/html": [
       "<div>\n",
       "<style scoped>\n",
       "    .dataframe tbody tr th:only-of-type {\n",
       "        vertical-align: middle;\n",
       "    }\n",
       "\n",
       "    .dataframe tbody tr th {\n",
       "        vertical-align: top;\n",
       "    }\n",
       "\n",
       "    .dataframe thead th {\n",
       "        text-align: right;\n",
       "    }\n",
       "</style>\n",
       "<table border=\"1\" class=\"dataframe\">\n",
       "  <thead>\n",
       "    <tr style=\"text-align: right;\">\n",
       "      <th></th>\n",
       "      <th>Rteam_top</th>\n",
       "      <th>Bteam_top</th>\n",
       "      <th>Rteam_middle</th>\n",
       "      <th>Bteam_middle</th>\n",
       "      <th>Rteam_bottom</th>\n",
       "      <th>Bteam_bottom</th>\n",
       "      <th>Rteam_support</th>\n",
       "      <th>Bteam_support</th>\n",
       "      <th>Rteam_jungle</th>\n",
       "      <th>Bteam_jungle</th>\n",
       "    </tr>\n",
       "  </thead>\n",
       "  <tbody>\n",
       "    <tr>\n",
       "      <th>0</th>\n",
       "      <td>f</td>\n",
       "      <td>a</td>\n",
       "      <td>g</td>\n",
       "      <td>b</td>\n",
       "      <td>h</td>\n",
       "      <td>c</td>\n",
       "      <td>i</td>\n",
       "      <td>d</td>\n",
       "      <td>j</td>\n",
       "      <td>e</td>\n",
       "    </tr>\n",
       "  </tbody>\n",
       "</table>\n",
       "</div>"
      ],
      "text/plain": [
       "  Rteam_top Bteam_top Rteam_middle Bteam_middle Rteam_bottom Bteam_bottom  \\\n",
       "0         f         a            g            b            h            c   \n",
       "\n",
       "  Rteam_support Bteam_support Rteam_jungle Bteam_jungle  \n",
       "0             i             d            j            e  "
      ]
     },
     "execution_count": 41,
     "metadata": {},
     "output_type": "execute_result"
    }
   ],
   "source": [
    "dfchamp"
   ]
  },
  {
   "cell_type": "code",
   "execution_count": 33,
   "metadata": {},
   "outputs": [
    {
     "data": {
      "text/plain": [
       "'a'"
      ]
     },
     "execution_count": 33,
     "metadata": {},
     "output_type": "execute_result"
    }
   ],
   "source": [
    "listA[0]"
   ]
  }
 ],
 "metadata": {
  "kernelspec": {
   "display_name": "Python 3",
   "language": "python",
   "name": "python3"
  },
  "language_info": {
   "codemirror_mode": {
    "name": "ipython",
    "version": 3
   },
   "file_extension": ".py",
   "mimetype": "text/x-python",
   "name": "python",
   "nbconvert_exporter": "python",
   "pygments_lexer": "ipython3",
   "version": "3.7.3"
  }
 },
 "nbformat": 4,
 "nbformat_minor": 2
}
